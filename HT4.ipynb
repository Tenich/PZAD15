{
 "cells": [
  {
   "cell_type": "code",
   "execution_count": 1,
   "metadata": {
    "collapsed": false
   },
   "outputs": [],
   "source": [
    "import numpy as np\n",
    "import pandas as pd\n",
    "from scipy.sparse import csr_matrix\n",
    "from sklearn.metrics import roc_auc_score\n",
    "from sklearn.cross_validation import train_test_split\n",
    "from  sklearn.ensemble import RandomForestClassifier"
   ]
  },
  {
   "cell_type": "markdown",
   "metadata": {},
   "source": [
    "Считываем граф"
   ]
  },
  {
   "cell_type": "code",
   "execution_count": 2,
   "metadata": {
    "collapsed": true
   },
   "outputs": [],
   "source": [
    "vertex_num = 11566\n",
    "train = pd.read_csv('./social_network.csv')"
   ]
  },
  {
   "cell_type": "code",
   "execution_count": 3,
   "metadata": {
    "collapsed": false
   },
   "outputs": [],
   "source": [
    "G = csr_matrix((np.ones(len(train)), (np.array(train['i']), np.array(train['j']))), \n",
    "                   shape=(vertex_num + 1, vertex_num + 1))\n",
    "\n",
    "for i in range(vertex_num):\n",
    "    if G[i, i]:\n",
    "        G[i, i] = 0\n",
    "G.eliminate_zeros()"
   ]
  },
  {
   "cell_type": "markdown",
   "metadata": {},
   "source": [
    "Индекс Адамика-Адара"
   ]
  },
  {
   "cell_type": "code",
   "execution_count": 6,
   "metadata": {
    "collapsed": true
   },
   "outputs": [],
   "source": [
    "def predict_adamic_adar(graph, X_train, y_train, X_test, eps=0.1):\n",
    "    adj_vertives = [set(graph[i].nonzero()[1]) for i in range(vertex_num + 1)]\n",
    "    y_pred = []\n",
    "    for (i, j) in X_test:\n",
    "        coeff = 0\n",
    "        for w in (adj_vertives[i] & adj_vertives[j]):\n",
    "            coeff += (1 / (np.log2(len(adj_vertives[w])) + eps))\n",
    "        y_pred.append(coeff)\n",
    "        \n",
    "    return np.array(y_pred)"
   ]
  },
  {
   "cell_type": "markdown",
   "metadata": {},
   "source": [
    "Бейзлайн на основе числа путей длины 2"
   ]
  },
  {
   "cell_type": "code",
   "execution_count": 7,
   "metadata": {
    "collapsed": true
   },
   "outputs": [],
   "source": [
    "def predict_two_path(graph, X_train, y_train, X_test):\n",
    "    G = graph.dot(graph)\n",
    "    y_pred = []\n",
    "    for (i, j) in X_test:\n",
    "        y_pred.append(G[i, j])\n",
    "        \n",
    "    return np.array(y_pred)"
   ]
  },
  {
   "cell_type": "markdown",
   "metadata": {},
   "source": [
    "Random Forest на простых признаках"
   ]
  },
  {
   "cell_type": "code",
   "execution_count": 8,
   "metadata": {
    "collapsed": true
   },
   "outputs": [],
   "source": [
    "def get_features(graph, edges):\n",
    "    adj_vertives = [set(graph[i].nonzero()[1]) for i in range(vertex_num + 1)]\n",
    "    \n",
    "    features = []\n",
    "    \n",
    "    for (i,  j) in edges:\n",
    "        cur_features = []\n",
    "        \n",
    "        cur_features.append(len(adj_vertives[i]))\n",
    "        cur_features.append(len(adj_vertives[j]))\n",
    "        cur_features.append(len(adj_vertives[i]) * len(adj_vertives[j]))\n",
    "        cur_features.append(len(adj_vertives[j] & adj_vertives[i]))\n",
    "        cur_features.append(len(adj_vertives[j] & adj_vertives[i]) / (len(adj_vertives[j] | adj_vertives[i]) + 2))\n",
    "        \n",
    "        features.append(cur_features)\n",
    "    \n",
    "    features = np.array(features)\n",
    "    return features\n",
    "\n",
    "def predict_rf(graph, X_train, y_train, X_test):\n",
    "    clf = RandomForestClassifier(n_estimators=1000, n_jobs=-1)\n",
    "    clf.fit(get_features(graph, X_train), y_train)\n",
    "    \n",
    "    return clf.predict_proba(get_features(graph, X_test))[:, 1]"
   ]
  },
  {
   "cell_type": "markdown",
   "metadata": {},
   "source": [
    "Кросс-валидация: рассматриваем все ребра $(i, j)$, такие что между вершинами $i$ и $j$ есть путь длины 2, из них выбираем  по $ 10^4 $ существующих и несуществующих ребер в выборку."
   ]
  },
  {
   "cell_type": "code",
   "execution_count": 9,
   "metadata": {
    "collapsed": false
   },
   "outputs": [],
   "source": [
    "def get_edges(graph):\n",
    "    two_path = graph.dot(graph)\n",
    "    \n",
    "    edges = [(i, j) for i, j in zip(*graph.nonzero())]\n",
    "    edges_set = set(edges)\n",
    "    \n",
    "    possible_edges = [(i, j) for i, j in zip(*two_path.nonzero()) if (i, j) not in edges_set]\n",
    "    return edges, possible_edges\n",
    "\n",
    "def cross_validate(predict_func, n_samples=10 ** 4, n_iter=10):\n",
    "    edges, possible_edges = get_edges(G)\n",
    "    total_score = 0\n",
    "    \n",
    "    for _ in range(n_iter):\n",
    "        positive_indice = np.random.choice(np.arange(len(edges)), n_samples, replace=False)\n",
    "        negative_incide = np.random.choice(np.arange(len(possible_edges)), n_samples, replace=False)\n",
    "\n",
    "        graph = G.copy()\n",
    "        for i in positive_indice:\n",
    "            x, y = edges[i]\n",
    "            graph[x, y] = 0\n",
    "        graph.eliminate_zeros()\n",
    "\n",
    "        X = [edges[i] for i in positive_indice] + [possible_edges[i] for i in negative_incide]\n",
    "        y = np.concatenate((np.ones(n_samples), np.zeros(n_samples)))\n",
    "\n",
    "        X_train, X_test, y_train, y_test = train_test_split(X, y, test_size=0.33, random_state=42)\n",
    "\n",
    "        y_pred = predict_func(graph, X_train, y_train, X_test)\n",
    "\n",
    "        total_score += roc_auc_score(y_test, y_pred)\n",
    "    return total_score / n_iter"
   ]
  },
  {
   "cell_type": "markdown",
   "metadata": {},
   "source": [
    "Результаты кросс-валидации:"
   ]
  },
  {
   "cell_type": "code",
   "execution_count": 10,
   "metadata": {
    "collapsed": false
   },
   "outputs": [
    {
     "data": {
      "text/plain": [
       "0.54047679898879242"
      ]
     },
     "execution_count": 10,
     "metadata": {},
     "output_type": "execute_result"
    }
   ],
   "source": [
    "cross_validate(predict_adamic_adar) # 0.897 на public"
   ]
  },
  {
   "cell_type": "code",
   "execution_count": 11,
   "metadata": {
    "collapsed": false
   },
   "outputs": [
    {
     "data": {
      "text/plain": [
       "0.39116556659701629"
      ]
     },
     "execution_count": 11,
     "metadata": {},
     "output_type": "execute_result"
    }
   ],
   "source": [
    "cross_validate(predict_two_path) # 0.721 на public"
   ]
  },
  {
   "cell_type": "code",
   "execution_count": 12,
   "metadata": {
    "collapsed": false
   },
   "outputs": [
    {
     "data": {
      "text/plain": [
       "0.62073259743934317"
      ]
     },
     "execution_count": 12,
     "metadata": {},
     "output_type": "execute_result"
    }
   ],
   "source": [
    "cross_validate(predict_rf) # 0.72 на public"
   ]
  },
  {
   "cell_type": "code",
   "execution_count": 18,
   "metadata": {
    "collapsed": false
   },
   "outputs": [],
   "source": [
    "test = pd.read_csv('./suspicious_edges.csv')\n",
    "result = pd.read_csv('./ans.csv')\n",
    "\n",
    "test_edges = [(i, j) for i, j in zip(test['i'], test['j'])]"
   ]
  },
  {
   "cell_type": "markdown",
   "metadata": {},
   "source": [
    "Считаем ответы для тестовой выборки с помощью RandomForest. Обучающей выборки для начального графа у нас нет, поэтому сгенерируем несколько обучающих выборок как для кросс-валидации, а потом усредним результаты."
   ]
  },
  {
   "cell_type": "code",
   "execution_count": 22,
   "metadata": {
    "collapsed": false
   },
   "outputs": [],
   "source": [
    "n_samples = 10 ** 4\n",
    "n_iter = 10\n",
    "\n",
    "res = np.zeros(len(test_edges))\n",
    "\n",
    "for _ in range(n_iter):\n",
    "    positive_indice = np.random.choice(np.arange(len(edges)), n_samples, replace=False)\n",
    "    negative_incide = np.random.choice(np.arange(len(possible_edges)), n_samples, replace=False)\n",
    "\n",
    "    graph = G.copy()\n",
    "    for i in positive_indice:\n",
    "        x, y = edges[i]\n",
    "        graph[x, y] = 0\n",
    "    graph.eliminate_zeros()\n",
    "\n",
    "    X = [edges[i] for i in positive_indice] + [possible_edges[i] for i in negative_incide]\n",
    "    y = np.concatenate((np.ones(n_samples), np.zeros(n_samples)))\n",
    "\n",
    "    res += predict_rf(graph, X, y, test_edges)\n",
    "\n",
    "res /= n_iter"
   ]
  },
  {
   "cell_type": "code",
   "execution_count": 31,
   "metadata": {
    "collapsed": false
   },
   "outputs": [],
   "source": [
    "result['prob'] = res\n",
    "result.to_csv('sub21.csv', index=False)"
   ]
  }
 ],
 "metadata": {
  "kernelspec": {
   "display_name": "Python 3",
   "language": "python",
   "name": "python3"
  },
  "language_info": {
   "codemirror_mode": {
    "name": "ipython",
    "version": 3
   },
   "file_extension": ".py",
   "mimetype": "text/x-python",
   "name": "python",
   "nbconvert_exporter": "python",
   "pygments_lexer": "ipython3",
   "version": "3.4.3"
  }
 },
 "nbformat": 4,
 "nbformat_minor": 0
}
