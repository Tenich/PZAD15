{
 "cells": [
  {
   "cell_type": "code",
   "execution_count": 1,
   "metadata": {
    "collapsed": false
   },
   "outputs": [],
   "source": [
    "import numpy as np\n",
    "from matplotlib import pyplot\n",
    "\n",
    "%matplotlib inline"
   ]
  },
  {
   "cell_type": "code",
   "execution_count": 2,
   "metadata": {
    "collapsed": false
   },
   "outputs": [],
   "source": [
    "def predict(weeks, get_weights):\n",
    "    probs = np.zeros(8)\n",
    "    \n",
    "    weights = get_weights(len(weeks))\n",
    "    cur_pos = 0\n",
    "    for week in weeks[::-1]:\n",
    "        probs += weights[cur_pos] * week\n",
    "        cur_pos += 1\n",
    "        \n",
    "    first_day_probs = []\n",
    "    cur_prob = 1\n",
    "    for prob in probs:\n",
    "        first_day_probs.append(cur_prob * prob)\n",
    "        cur_prob *= (1 - prob)\n",
    "    first_day_probs = np.array(first_day_probs)\n",
    "    \n",
    "    return first_day_probs.argmax()"
   ]
  },
  {
   "cell_type": "code",
   "execution_count": 3,
   "metadata": {
    "collapsed": true
   },
   "outputs": [],
   "source": [
    "def print_results(result, outfile='answer.csv'):\n",
    "    with open(outfile, 'w') as fout:\n",
    "        fout.write('id,nextvisit\\n' + '\\n'.join(', '.join(x) for x in result))"
   ]
  },
  {
   "cell_type": "code",
   "execution_count": 4,
   "metadata": {
    "collapsed": false
   },
   "outputs": [],
   "source": [
    "def read_data():\n",
    "    data = []\n",
    "    \n",
    "    with open('train.csv') as fin:\n",
    "        for line in fin.readlines():\n",
    "            user_id, days = line.strip().split(',')\n",
    "            days = set(map(int, days.split()))\n",
    "            weeks = []\n",
    "\n",
    "            for week in range(1, 158):\n",
    "                cur_week = np.zeros(8)\n",
    "                for day in range(1, 8):\n",
    "                    abs_day = (week - 1) * 7 + day\n",
    "\n",
    "                    if abs_day in days:\n",
    "                        cur_week[day] = 1\n",
    "                        got_day = True\n",
    "                if cur_week.sum():\n",
    "                    weeks.append(cur_week)\n",
    "\n",
    "            data.append((user_id, weeks))\n",
    "    \n",
    "    return data"
   ]
  },
  {
   "cell_type": "code",
   "execution_count": 5,
   "metadata": {
    "collapsed": true
   },
   "outputs": [],
   "source": [
    "def get_results(data, get_weights):\n",
    "    return [(user_id, str(predict(weeks, get_weights))) for user_id, weeks in data]"
   ]
  },
  {
   "cell_type": "code",
   "execution_count": 6,
   "metadata": {
    "collapsed": true
   },
   "outputs": [],
   "source": [
    "def accuracy(target, test):\n",
    "    result = 0\n",
    "    all_num = 0\n",
    "    for x, y in zip(target, test):\n",
    "        all_num += 1\n",
    "        result += (x == y)\n",
    "    return result / all_num"
   ]
  },
  {
   "cell_type": "code",
   "execution_count": 7,
   "metadata": {
    "collapsed": true
   },
   "outputs": [],
   "source": [
    "def test(data, get_weights):\n",
    "    test_data = ((id, visits[:-1]) for id, visits in data)\n",
    "    target = ((id, str(visits[-1].argmax())) for id, visits in data)\n",
    "    \n",
    "    result = get_results(test_data, get_weights)\n",
    "    return accuracy(target, result)"
   ]
  },
  {
   "cell_type": "code",
   "execution_count": 19,
   "metadata": {
    "collapsed": false
   },
   "outputs": [],
   "source": [
    "def uniform_weight(week_num):\n",
    "    return np.ones(week_num) / week_num\n",
    "\n",
    "def linear_weight(week_num):\n",
    "    weights = np.ones(week_num) / np.arange(1, week_num + 1)\n",
    "    return weights / weights.sum()\n",
    "\n",
    "def square_weight(week_num):\n",
    "    weights = np.ones(week_num) / np.arange(1, week_num + 1) ** 2\n",
    "    return weights / weights.sum()\n",
    "\n",
    "def last_week_weight(week_num):\n",
    "    weights = np.zeros(week_num)\n",
    "    weights[0] = 1\n",
    "    return weights\n",
    "\n",
    "def exp_weight(week_num, gamma=1):\n",
    "    weights = np.array([gamma ** i for i in range(1, week_num + 1)])\n",
    "    return weights / weights.sum()"
   ]
  },
  {
   "cell_type": "code",
   "execution_count": 10,
   "metadata": {
    "collapsed": false
   },
   "outputs": [],
   "source": [
    "data = read_data()"
   ]
  },
  {
   "cell_type": "code",
   "execution_count": 11,
   "metadata": {
    "collapsed": false
   },
   "outputs": [
    {
     "data": {
      "text/plain": [
       "<Container object of 7 artists>"
      ]
     },
     "execution_count": 11,
     "metadata": {},
     "output_type": "execute_result"
    },
    {
     "data": {
      "image/png": "[encoded data removed]",
      "text/plain": [
       "<matplotlib.figure.Figure at 0x7fc481cd1b00>"
      ]
     },
     "metadata": {},
     "output_type": "display_data"
    }
   ],
   "source": [
    "# когда приходят люди\n",
    "days = sum(x for elem in data for x in elem[1])\n",
    "pyplot.bar(1 + np.arange(7), days[1:], align='center')"
   ]
  },
  {
   "cell_type": "code",
   "execution_count": 12,
   "metadata": {
    "collapsed": false
   },
   "outputs": [
    {
     "data": {
      "text/plain": [
       "<Container object of 7 artists>"
      ]
     },
     "execution_count": 12,
     "metadata": {},
     "output_type": "execute_result"
    },
    {
     "data": {
      "image/png": "[encoded data removed]",
      "text/plain": [
       "<matplotlib.figure.Figure at 0x7fc481cd19e8>"
      ]
     },
     "metadata": {},
     "output_type": "display_data"
    }
   ],
   "source": [
    "# когда приходят люди первый раз на неделе\n",
    "days = np.zeros(8)\n",
    "for elem in data:\n",
    "    for x in elem[1]:\n",
    "        days[x.argmax()] += 1\n",
    "pyplot.bar(1 + np.arange(7), days[1:], align='center')"
   ]
  },
  {
   "cell_type": "code",
   "execution_count": 24,
   "metadata": {
    "collapsed": false
   },
   "outputs": [],
   "source": [
    "weight_functions = [uniform_weight,\n",
    "                    linear_weight,\n",
    "                    square_weight,\n",
    "                    last_week_weight]"
   ]
  },
  {
   "cell_type": "code",
   "execution_count": 25,
   "metadata": {
    "collapsed": false
   },
   "outputs": [
    {
     "name": "stdout",
     "output_type": "stream",
     "text": [
      "0.23096 uniform_weight\n",
      "0.21265666666666666 linear_weight\n",
      "0.18344333333333335 square_weight\n",
      "0.18339666666666668 last_week_weight\n"
     ]
    }
   ],
   "source": [
    "for weight_function in weight_functions:\n",
    "    print(test(data, weight_function), weight_function.__name__)"
   ]
  },
  {
   "cell_type": "code",
   "execution_count": 30,
   "metadata": {
    "collapsed": false
   },
   "outputs": [],
   "source": [
    "# выбираем gamma\n",
    "scores = []\n",
    "for gamma in np.linspace(0.1, 1, 10):\n",
    "    scores.append(test(data, lambda x: exp_weight(x, gamma)))"
   ]
  },
  {
   "cell_type": "code",
   "execution_count": 31,
   "metadata": {
    "collapsed": false
   },
   "outputs": [
    {
     "data": {
      "text/plain": [
       "[<matplotlib.lines.Line2D at 0x7fc481ac4518>]"
      ]
     },
     "execution_count": 31,
     "metadata": {},
     "output_type": "execute_result"
    },
    {
     "data": {
      "image/png": "[encoded data removed]",
      "text/plain": [
       "<matplotlib.figure.Figure at 0x7fc481cd1780>"
      ]
     },
     "metadata": {},
     "output_type": "display_data"
    }
   ],
   "source": [
    "pyplot.plot(np.array(scores))"
   ]
  },
  {
   "cell_type": "code",
   "execution_count": 32,
   "metadata": {
    "collapsed": true
   },
   "outputs": [],
   "source": [
    "result = get_results(data, uniform_weight)"
   ]
  },
  {
   "cell_type": "code",
   "execution_count": 12,
   "metadata": {
    "collapsed": false
   },
   "outputs": [],
   "source": [
    "print_results(result, 'uniform.csv')"
   ]
  }
 ],
 "metadata": {
  "kernelspec": {
   "display_name": "Python 3",
   "language": "python",
   "name": "python3"
  },
  "language_info": {
   "codemirror_mode": {
    "name": "ipython",
    "version": 3
   },
   "file_extension": ".py",
   "mimetype": "text/x-python",
   "name": "python",
   "nbconvert_exporter": "python",
   "pygments_lexer": "ipython3",
   "version": "3.4.3"
  }
 },
 "nbformat": 4,
 "nbformat_minor": 0
}
